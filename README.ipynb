{
 "cells": [
  {
   "cell_type": "markdown",
   "metadata": {},
   "source": [
    "# Visualisation of I<sub>p</sub> and Electron photoemission spectra obtained by *cntr* code\n",
    "\n",
    "### Warning: material-specific code, use only for La<sub>2</sub>CuO<sub>4</sub>, implicit energy renormalization 0.43, based on compound bandwidth and lattice constant 3.78 A is used. Only *x* field projection is read from the current file, i.e. the value of current is multiplied by sqrt(2) for the [110] polarization\n",
    "\n",
    "\n",
    "#### File name: **I_p.py** \n",
    "#### Input:\n",
    "- *DMFT* calculation parameters are read from *cntr* input file\n",
    "  - Single *cntr* input file should exist in the working directory\n",
    "  - The name of the *cntr* input file should start with \"**inp**\"\n",
    "- Photoemission spectrum file **Spectr_PES.out**, output of ... script \n",
    "- Total Energy versus time **E_tot.out**, output of *cntr* code\n",
    "  - Energy renormalization is **0.43** (hard-coded, material-specific for La<sub>2</sub>CuO<sub>4</sub> due to material bandwidth)\n",
    "- Electric current **Pulse_xy.dat**, output of *cntr* code\\\n",
    "  - Only *x* field projection is read from the current file, i.e. the value of current is multiplied by sqrt(2) for the [110] polarization\n",
    "  \n",
    "#### Output:\n",
    "The **png** file with name Ip40LCOom**W.WWW**u**U.U**emax**EeEE**.png, where **W.WWW** is pulse frequency, **U.U** is Hubbard U (in eV), **EeEE** is electric field amplitude (in V/m). \n",
    "\n",
    "The upper panel shows derivative of total energy w.r.t. time (blue), it's approximation by fitting I<sub>p</sub> (green), the points shows two first large maxima (greater than 40% of the global maximum) of the derivative.\n",
    "\n",
    "The middle panel shows electric field profile, the points shows times of the total energy derivative maxima.\n",
    "\n",
    "The lower panel shows electron photoemission spectrum\n",
    "\n",
    "### Code\n",
    "\n",
    "#### Loading libraries:"
   ]
  },
  {
   "cell_type": "code",
   "execution_count": 1,
   "metadata": {},
   "outputs": [],
   "source": [
    "####%matplotlib inline\n",
    "################ Libraries ###############################\n",
    "import numpy as np\n",
    "from fractions import Fraction\n",
    "import matplotlib.pyplot as plt\n",
    "import matplotlib.colors as collors\n",
    "import matplotlib.cm as cmx\n",
    "import scipy.signal\n",
    "import sys\n",
    "import glob\n",
    "import re\n",
    "import math\n",
    "\n",
    "#plt.rcParams.update({'font.size': 22})"
   ]
  },
  {
   "cell_type": "markdown",
   "metadata": {},
   "source": [
    "#### Arrays and parameters definition:"
   ]
  },
  {
   "cell_type": "code",
   "execution_count": 2,
   "metadata": {},
   "outputs": [],
   "source": [
    "##############  defining arrays  #############\n",
    "time = np.array([])\n",
    "E_tot_eV = np.array([])\n",
    "dE_tot_dt = np.array([])\n",
    "W_dot = np.array([])\n",
    "E_field = np.array([])\n",
    "\n",
    "###################### Not used: command line input parameters  ###################\n",
    "#if (len(sys.argv)!=2): sys.exit('need Energy/time renormalization parameter: how much eV is in this runs energy unit???')\n",
    "#renorm=float(sys.argv[1])\n",
    "\n",
    "#######################\n",
    "#######################\n",
    "#######################\n",
    "\n",
    "#LCO-XY-Linear-polarization-specific script !!!!!!!!!!!!!!!!!!!!!!!!\n",
    "renorm=0.43\n",
    "#############  script for LCO, a0 is in-plane lattice constant  !!!!!!!!!!\n",
    "a_0=3.78e-10 \n",
    "# one E component only available in control and pulse files,\n",
    "# should be read and multiplied by Efactor=sqrt(2) \n",
    "Efactor=np.sqrt(2)"
   ]
  },
  {
   "cell_type": "markdown",
   "metadata": {},
   "source": [
    "#### Reading input files:"
   ]
  },
  {
   "cell_type": "code",
   "execution_count": 3,
   "metadata": {},
   "outputs": [],
   "source": [
    "############# input parameters from control input file inp*   ############\n",
    "inpFiles = glob.glob('./inp*')\n",
    "if (len(inpFiles)!=1):\n",
    "\tsys.exit('Problem with input files (too few or too many)')\n",
    "\t\n",
    "with open(inpFiles[0]) as file:\n",
    "    inpp = file.read()\n",
    "inpVals = re.findall(r'(\\_+\\w+)=(.+)', inpp)\n",
    "inpDict = dict(inpVals)\n",
    "\n",
    "### distance between consequent time points from input files in fs\n",
    "spacing = float(inpDict[\"__h\"])*0.66/renorm\n",
    "\n",
    "### pulse central frequency in eV\n",
    "omega_eV= float(inpDict[\"__omega\"])*renorm\n",
    "\n",
    "### Coulomb repulsion in eV\n",
    "U_eV= float(inpDict[\"__U\"])*renorm\n",
    "\n",
    "### Maximal electric field strength of pulse envelope in V/m\n",
    "EmaxVM= float(inpDict[\"__E\"])*Efactor*omega_eV/a_0\n",
    "\n",
    "############### reading files and converting data to the proper units  ##########################\n",
    "\n",
    "### total energy and time:\n",
    "dataEtot=np.genfromtxt('E_tot.out', skip_header=1)\n",
    "time=dataEtot[:,0]*spacing\t \n",
    "E_tot_eV=dataEtot[:,4]*renorm\t\n",
    "\n",
    "### Electric field as -time derivative of the vector potential\n",
    "#### since Pulse_xy.dat filename is specific for [110] linear pulse polarization,\n",
    "#### we take first component of vector potential and multiply it by sqrt(2):  !!!!!!!!!!!!!!!!\n",
    "\n",
    "dataAxy=np.genfromtxt('Pulse_xy.dat', skip_header=1)\n",
    "E_field=-np.gradient(dataAxy[:,1],spacing)*Efactor\n",
    "\n",
    "##### read PES data\n",
    "dataPES=np.genfromtxt('Spectr_PES.out')"
   ]
  },
  {
   "cell_type": "markdown",
   "metadata": {},
   "source": [
    "#### Calculating Ip, and derivatives of total energy:"
   ]
  },
  {
   "cell_type": "code",
   "execution_count": 4,
   "metadata": {},
   "outputs": [],
   "source": [
    "###########################  calculating Ip  ################\n",
    "######  $I_p = \\frac{1}{2}\\left( \\frac{-\\frac{3}{2}ln\\frac{{\\dot W}_1}{{\\dot W}_2}}{E_1^{-1}-E_2^{-1}} \\right)^{2/3}$\t\n",
    "\n",
    "# get time derivative of Etot, units are eV/fs:\t\n",
    "dE_tot_dt=np.gradient(E_tot_eV,spacing)\n",
    "\n",
    "# find all maxima of dE_tot/dt:\n",
    "W_dot=scipy.signal.argrelextrema(dE_tot_dt,np.greater)\n",
    "\t\n",
    "# select all maxima of W_dot=dE_tot/dt that are greater than 40% of global maximum of dE_tot/dt:\n",
    "GlobalWdotMax=max(dE_tot_dt[W_dot])\n",
    "\n",
    "BigMaxIndices=W_dot[0][np.where(dE_tot_dt[W_dot]>0.4*GlobalWdotMax)[0]]\n",
    "IpCalcIndices=np.array([BigMaxIndices[0],BigMaxIndices[1]])\n",
    "\n",
    "# take values of dE_tot/dt at the first and the second maxima, exceeding 40% of global maximum:\n",
    "W_1_dot=dE_tot_dt[IpCalcIndices[0]]\n",
    "W_2_dot=dE_tot_dt[IpCalcIndices[1]]\n",
    "\n",
    "# calculating inverse values of electric field strength ABSOLUTE VALUE at the first and the second maxima\n",
    "# units are (eV/a_0)^-1, where a_0 is in-plane lattice constant:\n",
    "E1m1=1.0/np.abs(E_field[IpCalcIndices[0]])\n",
    "E2m1=1.0/np.abs(E_field[IpCalcIndices[1]])\n",
    "\n",
    "# calculating Ip :\n",
    "\n",
    "OneThird=Fraction('1/3')\n",
    "Ip=0.5*((((-3.0/2.0)*np.log(W_1_dot/W_2_dot))/(E1m1-E2m1))**2)**(OneThird)\n",
    "#print('Ip = ',Ip)\n",
    "\n",
    "# calculating fit of dE_tot/dt by formula\n",
    "# $dE_{\\rm tot}/dt\\right|_{t=t_i}=\\alpha e^{-\\frac{2}{3}\\frac{(2I_p)^{3/2}}{E(t_i)}}$,\n",
    "# alpha is fitted to match dE_tot/dt value at the second significant maximum: \n",
    "\n",
    "alpha=dE_tot_dt[IpCalcIndices[1]]/np.exp((-2.0/3.0)*(np.sqrt((2*Ip)**3))/(np.abs(E_field[IpCalcIndices[1]])))\n",
    "dEdtFitted=alpha*np.exp((-2.0/3.0)*(np.sqrt((2*Ip)**3))/(np.abs(E_field)))\t\n",
    "\n"
   ]
  },
  {
   "cell_type": "markdown",
   "metadata": {},
   "source": [
    "#### Making three-panel figure:"
   ]
  },
  {
   "cell_type": "code",
   "execution_count": 5,
   "metadata": {},
   "outputs": [
    {
     "data": {
      "image/png": "[encoded data removed]",
      "text/plain": [
       "<Figure size 432x288 with 3 Axes>"
      ]
     },
     "metadata": {
      "needs_background": "light"
     },
     "output_type": "display_data"
    }
   ],
   "source": [
    "######################## making plots  #########################\n",
    "fig, axs = plt.subplots(3, 1, sharex=True)\n",
    "fig.subplots_adjust(hspace=0)\n",
    "\n",
    "TimeZero=dataPES[0,0]*spacing\n",
    "\n",
    "## Upper panel, derivative of total energy vs time\n",
    "axs[0].plot(time-TimeZero,dE_tot_dt, label=\"IPT\") \n",
    "axs[0].scatter(time[IpCalcIndices]-TimeZero, dE_tot_dt[IpCalcIndices], s=60)\n",
    "axs[0].plot(time-TimeZero,dEdtFitted, label=r'$\\alpha e^{-\\frac{2}{3}\\frac{(2I_p)^{3/2}}{E(t)}}$')\n",
    "axs[0].set_ylabel(r'$dE_{tot}/dt$ (eV/fs)')\n",
    "plt.setp(axs[0].get_yticklabels()[0], visible=False)\n",
    "axs[0].legend(loc='upper right', borderaxespad=0.)\n",
    "\n",
    "## Middle panel: electric field profile\n",
    "axs[1].plot(time-TimeZero,E_field)\n",
    "axs[1].scatter(time[IpCalcIndices]-TimeZero, E_field[IpCalcIndices], s=60)\n",
    "axs[1].set_ylabel(r'$E$ $(V/a_0)$')\n",
    "plt.setp(axs[1].get_yticklabels()[0], visible=False)    \n",
    "plt.setp(axs[1].get_yticklabels()[-1], visible=False)\n",
    "\n",
    "\n",
    "## Lower panel: photoelectron emission: energy vs. time:\n",
    "cm = plt.get_cmap(\"terrain\")\n",
    "cNorm = collors.Normalize(vmin=min(dataPES[:,2]), vmax=max(dataPES[:,2]))\n",
    "scalarMap = cmx.ScalarMappable(norm=cNorm, cmap=cm)\n",
    "axs[2].scatter(dataPES[:,0]*spacing-TimeZero,dataPES[:,1]*renorm, s=2, c=scalarMap.to_rgba(dataPES[:,2]), marker=\"s\", linewidth=0)  \n",
    "axs[2].set_xlabel('Time (fs)')\n",
    "axs[2].set_ylabel(r'$\\omega$ (eV)')\n",
    "axs[2].set_xlim(0,dataPES[-1,0]*spacing-TimeZero)\n",
    "omMaxPlot=math.trunc(dataPES[-1,1]*renorm)-0.001\n",
    "axs[2].set_ylim(-omMaxPlot,omMaxPlot)\n",
    "for time12 in time[IpCalcIndices]:\n",
    "    plt.axvline(x=time12-TimeZero, color='k', linestyle='--')\n"
   ]
  }
 ],
 "metadata": {
  "kernelspec": {
   "display_name": "Python 3",
   "language": "python",
   "name": "python3"
  },
  "language_info": {
   "codemirror_mode": {
    "name": "ipython",
    "version": 3
   },
   "file_extension": ".py",
   "mimetype": "text/x-python",
   "name": "python",
   "nbconvert_exporter": "python",
   "pygments_lexer": "ipython3",
   "version": "3.7.4"
  }
 },
 "nbformat": 4,
 "nbformat_minor": 2
}
